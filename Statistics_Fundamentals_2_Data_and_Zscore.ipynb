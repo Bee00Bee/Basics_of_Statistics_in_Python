{
 "cells": [
  {
   "cell_type": "markdown",
   "id": "552a50d2",
   "metadata": {},
   "source": [
    "In this notebook, I want to talk about the process of taking a subset of data from a large dataset. So here I bring fundamental definitions which are:\n",
    "* Sample: is a small portion of a large dataset. You can call the *sample* as *subset*.\n",
    "* Population: The larger data set.\n",
    "* Random sampling: Choosing samples randomly from a dataset. \n",
    "* Stratified sampling: Divide the population into strata and randomly sample from each strata. \n",
    "* Sample bias: A sample that misrepresents the population.\n",
    "* Sample statistics: One defines a statistical approach let's say a metric for a sample.\n",
    "* Standard error: It is abbriviated as *SE* which is standard deviation over the square root of the sample size (*n*). This can be formulated as: $SE$ = $s$/sqrt($n$) \n",
    "* Confidence interval: Is the range of values that we are almost certain that a true value sits in. \n",
    "* Error: The difference between a predicted value by a model and the true value. Error = X_real - X_predicted\n",
    "* Standardize: To standardize the data, subtract each data points from the mean and devide the subtraction by the standard deviation.\n",
    "* Standard normal: A normal distribution with an average = 0 and the standard deviation = 1.\n",
    "* Z-score: It is a numerical value that shows a value's relationship to the mean of a group of values.\n",
    "* T-distribution: It is almost similar to normal distribution but it is  shorter and wider. As the number of samples increases its heigth increases and its width becomes shorter. "
   ]
  },
  {
   "cell_type": "markdown",
   "id": "61a3ee6c",
   "metadata": {},
   "source": [
    "First things first, let's have the dataset available in hand:"
   ]
  },
  {
   "cell_type": "code",
   "execution_count": 2,
   "id": "1883731f",
   "metadata": {},
   "outputs": [
    {
     "name": "stdout",
     "output_type": "stream",
     "text": [
      "The feature names of the dataset are:\n",
      " ['MedInc', 'HouseAge', 'AveRooms', 'AveBedrms', 'Population', 'AveOccup', 'Latitude', 'Longitude']\n",
      "\n",
      "The target name of the dataset is:\n",
      " ['MedHouseVal']\n"
     ]
    }
   ],
   "source": [
    "from sklearn import datasets\n",
    "import pandas as pd\n",
    "\n",
    "california = datasets.fetch_california_housing()\n",
    "\n",
    "print(\"The feature names of the dataset are:\\n\",california.feature_names)\n",
    "print(\"\\nThe target name of the dataset is:\\n\",california.target_names)\n",
    "\n",
    "df_calif_data = pd.DataFrame(california.data)\n",
    "df_calif_target = pd.DataFrame(california.target)\n",
    "\n",
    "df_calif_data = df_calif_data.rename(columns={0:'MedInc', 1:'HouseAge', 2:'AveRooms', 3:'AveBedrms', 4:'Population',\n",
    "                                 5:'AveOccup',6:'Latitude', 7:'Longitude'})\n",
    "\n",
    "df_calif_target = df_calif_target.rename(columns={0:\"MedHouseVal\"})"
   ]
  },
  {
   "cell_type": "code",
   "execution_count": 10,
   "id": "e83f3dd3",
   "metadata": {},
   "outputs": [],
   "source": [
    "df_data = pd.concat([df_calif_data, df_calif_target],axis=1)"
   ]
  },
  {
   "cell_type": "code",
   "execution_count": 13,
   "id": "38c64a5b",
   "metadata": {},
   "outputs": [
    {
     "name": "stdout",
     "output_type": "stream",
     "text": [
      "\n",
      "Here is the dataframe of the dataset:\n",
      "\n"
     ]
    },
    {
     "data": {
      "text/html": [
       "<div>\n",
       "<style scoped>\n",
       "    .dataframe tbody tr th:only-of-type {\n",
       "        vertical-align: middle;\n",
       "    }\n",
       "\n",
       "    .dataframe tbody tr th {\n",
       "        vertical-align: top;\n",
       "    }\n",
       "\n",
       "    .dataframe thead th {\n",
       "        text-align: right;\n",
       "    }\n",
       "</style>\n",
       "<table border=\"1\" class=\"dataframe\">\n",
       "  <thead>\n",
       "    <tr style=\"text-align: right;\">\n",
       "      <th></th>\n",
       "      <th>MedInc</th>\n",
       "      <th>HouseAge</th>\n",
       "      <th>AveRooms</th>\n",
       "      <th>AveBedrms</th>\n",
       "      <th>Population</th>\n",
       "      <th>AveOccup</th>\n",
       "      <th>Latitude</th>\n",
       "      <th>Longitude</th>\n",
       "      <th>MedHouseVal</th>\n",
       "    </tr>\n",
       "  </thead>\n",
       "  <tbody>\n",
       "    <tr>\n",
       "      <th>0</th>\n",
       "      <td>8.3252</td>\n",
       "      <td>41.0</td>\n",
       "      <td>6.984127</td>\n",
       "      <td>1.023810</td>\n",
       "      <td>322.0</td>\n",
       "      <td>2.555556</td>\n",
       "      <td>37.88</td>\n",
       "      <td>-122.23</td>\n",
       "      <td>4.526</td>\n",
       "    </tr>\n",
       "    <tr>\n",
       "      <th>1</th>\n",
       "      <td>8.3014</td>\n",
       "      <td>21.0</td>\n",
       "      <td>6.238137</td>\n",
       "      <td>0.971880</td>\n",
       "      <td>2401.0</td>\n",
       "      <td>2.109842</td>\n",
       "      <td>37.86</td>\n",
       "      <td>-122.22</td>\n",
       "      <td>3.585</td>\n",
       "    </tr>\n",
       "    <tr>\n",
       "      <th>2</th>\n",
       "      <td>7.2574</td>\n",
       "      <td>52.0</td>\n",
       "      <td>8.288136</td>\n",
       "      <td>1.073446</td>\n",
       "      <td>496.0</td>\n",
       "      <td>2.802260</td>\n",
       "      <td>37.85</td>\n",
       "      <td>-122.24</td>\n",
       "      <td>3.521</td>\n",
       "    </tr>\n",
       "    <tr>\n",
       "      <th>3</th>\n",
       "      <td>5.6431</td>\n",
       "      <td>52.0</td>\n",
       "      <td>5.817352</td>\n",
       "      <td>1.073059</td>\n",
       "      <td>558.0</td>\n",
       "      <td>2.547945</td>\n",
       "      <td>37.85</td>\n",
       "      <td>-122.25</td>\n",
       "      <td>3.413</td>\n",
       "    </tr>\n",
       "    <tr>\n",
       "      <th>4</th>\n",
       "      <td>3.8462</td>\n",
       "      <td>52.0</td>\n",
       "      <td>6.281853</td>\n",
       "      <td>1.081081</td>\n",
       "      <td>565.0</td>\n",
       "      <td>2.181467</td>\n",
       "      <td>37.85</td>\n",
       "      <td>-122.25</td>\n",
       "      <td>3.422</td>\n",
       "    </tr>\n",
       "    <tr>\n",
       "      <th>...</th>\n",
       "      <td>...</td>\n",
       "      <td>...</td>\n",
       "      <td>...</td>\n",
       "      <td>...</td>\n",
       "      <td>...</td>\n",
       "      <td>...</td>\n",
       "      <td>...</td>\n",
       "      <td>...</td>\n",
       "      <td>...</td>\n",
       "    </tr>\n",
       "    <tr>\n",
       "      <th>20635</th>\n",
       "      <td>1.5603</td>\n",
       "      <td>25.0</td>\n",
       "      <td>5.045455</td>\n",
       "      <td>1.133333</td>\n",
       "      <td>845.0</td>\n",
       "      <td>2.560606</td>\n",
       "      <td>39.48</td>\n",
       "      <td>-121.09</td>\n",
       "      <td>0.781</td>\n",
       "    </tr>\n",
       "    <tr>\n",
       "      <th>20636</th>\n",
       "      <td>2.5568</td>\n",
       "      <td>18.0</td>\n",
       "      <td>6.114035</td>\n",
       "      <td>1.315789</td>\n",
       "      <td>356.0</td>\n",
       "      <td>3.122807</td>\n",
       "      <td>39.49</td>\n",
       "      <td>-121.21</td>\n",
       "      <td>0.771</td>\n",
       "    </tr>\n",
       "    <tr>\n",
       "      <th>20637</th>\n",
       "      <td>1.7000</td>\n",
       "      <td>17.0</td>\n",
       "      <td>5.205543</td>\n",
       "      <td>1.120092</td>\n",
       "      <td>1007.0</td>\n",
       "      <td>2.325635</td>\n",
       "      <td>39.43</td>\n",
       "      <td>-121.22</td>\n",
       "      <td>0.923</td>\n",
       "    </tr>\n",
       "    <tr>\n",
       "      <th>20638</th>\n",
       "      <td>1.8672</td>\n",
       "      <td>18.0</td>\n",
       "      <td>5.329513</td>\n",
       "      <td>1.171920</td>\n",
       "      <td>741.0</td>\n",
       "      <td>2.123209</td>\n",
       "      <td>39.43</td>\n",
       "      <td>-121.32</td>\n",
       "      <td>0.847</td>\n",
       "    </tr>\n",
       "    <tr>\n",
       "      <th>20639</th>\n",
       "      <td>2.3886</td>\n",
       "      <td>16.0</td>\n",
       "      <td>5.254717</td>\n",
       "      <td>1.162264</td>\n",
       "      <td>1387.0</td>\n",
       "      <td>2.616981</td>\n",
       "      <td>39.37</td>\n",
       "      <td>-121.24</td>\n",
       "      <td>0.894</td>\n",
       "    </tr>\n",
       "  </tbody>\n",
       "</table>\n",
       "<p>20640 rows × 9 columns</p>\n",
       "</div>"
      ],
      "text/plain": [
       "       MedInc  HouseAge  AveRooms  AveBedrms  Population  AveOccup  Latitude  \\\n",
       "0      8.3252      41.0  6.984127   1.023810       322.0  2.555556     37.88   \n",
       "1      8.3014      21.0  6.238137   0.971880      2401.0  2.109842     37.86   \n",
       "2      7.2574      52.0  8.288136   1.073446       496.0  2.802260     37.85   \n",
       "3      5.6431      52.0  5.817352   1.073059       558.0  2.547945     37.85   \n",
       "4      3.8462      52.0  6.281853   1.081081       565.0  2.181467     37.85   \n",
       "...       ...       ...       ...        ...         ...       ...       ...   \n",
       "20635  1.5603      25.0  5.045455   1.133333       845.0  2.560606     39.48   \n",
       "20636  2.5568      18.0  6.114035   1.315789       356.0  3.122807     39.49   \n",
       "20637  1.7000      17.0  5.205543   1.120092      1007.0  2.325635     39.43   \n",
       "20638  1.8672      18.0  5.329513   1.171920       741.0  2.123209     39.43   \n",
       "20639  2.3886      16.0  5.254717   1.162264      1387.0  2.616981     39.37   \n",
       "\n",
       "       Longitude  MedHouseVal  \n",
       "0        -122.23        4.526  \n",
       "1        -122.22        3.585  \n",
       "2        -122.24        3.521  \n",
       "3        -122.25        3.413  \n",
       "4        -122.25        3.422  \n",
       "...          ...          ...  \n",
       "20635    -121.09        0.781  \n",
       "20636    -121.21        0.771  \n",
       "20637    -121.22        0.923  \n",
       "20638    -121.32        0.847  \n",
       "20639    -121.24        0.894  \n",
       "\n",
       "[20640 rows x 9 columns]"
      ]
     },
     "execution_count": 13,
     "metadata": {},
     "output_type": "execute_result"
    }
   ],
   "source": [
    "print('\\nHere is the dataframe of the dataset:\\n')\n",
    "df_data"
   ]
  },
  {
   "cell_type": "markdown",
   "id": "674e5cda",
   "metadata": {},
   "source": [
    "## Sample, Population, Random Sampling"
   ]
  },
  {
   "cell_type": "markdown",
   "id": "520373be",
   "metadata": {},
   "source": [
    "Below I create a sample with 20 elements from the *HouseAge* column. The *population* is the whole column of *HouseAge*. As I select the sample randomly thus this process is *Random Sampling*."
   ]
  },
  {
   "cell_type": "code",
   "execution_count": 25,
   "id": "390ced1d",
   "metadata": {},
   "outputs": [
    {
     "data": {
      "text/plain": [
       "4712     39.0\n",
       "2151     37.0\n",
       "15927    46.0\n",
       "82       52.0\n",
       "8161     37.0\n",
       "6636     17.0\n",
       "17333    12.0\n",
       "19081    29.0\n",
       "13298    35.0\n",
       "7157     45.0\n",
       "15734    31.0\n",
       "12388    18.0\n",
       "13589    50.0\n",
       "3403     37.0\n",
       "11888    34.0\n",
       "7385     37.0\n",
       "18378    17.0\n",
       "6104     35.0\n",
       "6881     31.0\n",
       "16035    49.0\n",
       "Name: HouseAge, dtype: float64"
      ]
     },
     "execution_count": 25,
     "metadata": {},
     "output_type": "execute_result"
    }
   ],
   "source": [
    "import random \n",
    "df_data['HouseAge'].sample(n=20, random_state=1)"
   ]
  },
  {
   "cell_type": "markdown",
   "id": "2c5a6b4c",
   "metadata": {},
   "source": [
    "## Stratified Sampling"
   ]
  },
  {
   "cell_type": "markdown",
   "id": "561d4ff2",
   "metadata": {},
   "source": [
    "To work on the *Stratified Sampling* we can have three samples."
   ]
  },
  {
   "cell_type": "code",
   "execution_count": 38,
   "id": "77a4a4bf",
   "metadata": {},
   "outputs": [
    {
     "data": {
      "text/html": [
       "<div>\n",
       "<style scoped>\n",
       "    .dataframe tbody tr th:only-of-type {\n",
       "        vertical-align: middle;\n",
       "    }\n",
       "\n",
       "    .dataframe tbody tr th {\n",
       "        vertical-align: top;\n",
       "    }\n",
       "\n",
       "    .dataframe thead th {\n",
       "        text-align: right;\n",
       "    }\n",
       "</style>\n",
       "<table border=\"1\" class=\"dataframe\">\n",
       "  <thead>\n",
       "    <tr style=\"text-align: right;\">\n",
       "      <th></th>\n",
       "      <th>MedInc</th>\n",
       "      <th>HouseAge</th>\n",
       "      <th>AveRooms</th>\n",
       "      <th>AveBedrms</th>\n",
       "      <th>Population</th>\n",
       "      <th>AveOccup</th>\n",
       "      <th>Latitude</th>\n",
       "      <th>Longitude</th>\n",
       "      <th>MedHouseVal</th>\n",
       "    </tr>\n",
       "  </thead>\n",
       "  <tbody>\n",
       "    <tr>\n",
       "      <th>7119</th>\n",
       "      <td>3.7308</td>\n",
       "      <td>35.0</td>\n",
       "      <td>5.690476</td>\n",
       "      <td>1.107143</td>\n",
       "      <td>744.0</td>\n",
       "      <td>2.952381</td>\n",
       "      <td>33.9</td>\n",
       "      <td>-118.03</td>\n",
       "      <td>2.024</td>\n",
       "    </tr>\n",
       "  </tbody>\n",
       "</table>\n",
       "</div>"
      ],
      "text/plain": [
       "      MedInc  HouseAge  AveRooms  AveBedrms  Population  AveOccup  Latitude  \\\n",
       "7119  3.7308      35.0  5.690476   1.107143       744.0  2.952381      33.9   \n",
       "\n",
       "      Longitude  MedHouseVal  \n",
       "7119    -118.03        2.024  "
      ]
     },
     "execution_count": 38,
     "metadata": {},
     "output_type": "execute_result"
    }
   ],
   "source": [
    "df_data.sample()"
   ]
  },
  {
   "cell_type": "markdown",
   "id": "8d37cb67",
   "metadata": {},
   "source": [
    "## Standard Error\n",
    "Let's calculate the *Standard Error* of the *MedInc* column."
   ]
  },
  {
   "cell_type": "code",
   "execution_count": 47,
   "id": "fda27ecc",
   "metadata": {},
   "outputs": [
    {
     "name": "stdout",
     "output_type": "stream",
     "text": [
      "The standard error of the MedInc column is:\n",
      " 0.013223852656038992\n"
     ]
    }
   ],
   "source": [
    "import scipy\n",
    "from scipy.stats import sem\n",
    "\n",
    "print('The standard error of the MedInc column is:\\n', sem(df_data['MedInc']) )"
   ]
  },
  {
   "cell_type": "markdown",
   "id": "f9b4e79f",
   "metadata": {},
   "source": [
    "## Confidence Interval\n",
    "Below I calculate the *confidence interval* for the *MedInc* column:"
   ]
  },
  {
   "cell_type": "code",
   "execution_count": 59,
   "id": "7a65f708",
   "metadata": {},
   "outputs": [
    {
     "name": "stdout",
     "output_type": "stream",
     "text": [
      "The confidence intervals for the confidence of  0.95 are\n",
      " avg,                avg-h,                avg+h\n",
      " 3.8706710029069766 3.844751207911283 3.8965907979026704\n"
     ]
    }
   ],
   "source": [
    "confidence = 0.95\n",
    "data = df_data['MedInc'].values\n",
    "length = len(data)\n",
    "avg, SE = np.mean(data), sem(data)\n",
    "h = SE*scipy.stats.t.ppf( (1+confidence)/2., length-1 )\n",
    "print('The confidence intervals for the confidence of ', confidence, 'are\\n' \n",
    "      , 'avg,                avg-h,                avg+h\\n',\n",
    "      avg, avg-h, avg+h)"
   ]
  },
  {
   "cell_type": "markdown",
   "id": "126ee3b1",
   "metadata": {},
   "source": [
    "## Standardize"
   ]
  },
  {
   "cell_type": "code",
   "execution_count": 63,
   "id": "7be5aa41",
   "metadata": {},
   "outputs": [
    {
     "data": {
      "text/plain": [
       "array([ 2.34476576,  2.33223796,  1.7826994 , ..., -1.14259331,\n",
       "       -1.05458292, -0.78012947])"
      ]
     },
     "execution_count": 63,
     "metadata": {},
     "output_type": "execute_result"
    }
   ],
   "source": [
    "from sklearn import preprocessing\n",
    "\n",
    "standard = preprocessing.scale(data)\n",
    "standard"
   ]
  },
  {
   "cell_type": "markdown",
   "id": "5b68fa86",
   "metadata": {},
   "source": [
    "## Standard Normal\n",
    "I choose the *MedInc* and *HouseAge* of the data. You can see the mean and the standard deviation of the data are not 0, and 1, respectively."
   ]
  },
  {
   "cell_type": "code",
   "execution_count": 98,
   "id": "c16ed674",
   "metadata": {},
   "outputs": [
    {
     "name": "stdout",
     "output_type": "stream",
     "text": [
      "The mean of the data is:  16.255078718507754 \n",
      "and the standard deviation of the data is:  15.309226675317731\n"
     ]
    }
   ],
   "source": [
    "data2 = data[['MedInc', 'HouseAge']].values\n",
    "print(\"The mean of the data is: \",np.mean(data2),\"\\nand the standard deviation of the data is: \", np.std(data2))"
   ]
  },
  {
   "cell_type": "code",
   "execution_count": 89,
   "id": "6593d1c8",
   "metadata": {},
   "outputs": [
    {
     "data": {
      "text/plain": [
       "[<matplotlib.lines.Line2D at 0x7f36e91d2220>]"
      ]
     },
     "execution_count": 89,
     "metadata": {},
     "output_type": "execute_result"
    },
    {
     "data": {
      "image/png": "[encoded data removed]",
      "text/plain": [
       "<Figure size 432x288 with 1 Axes>"
      ]
     },
     "metadata": {
      "needs_background": "light"
     },
     "output_type": "display_data"
    }
   ],
   "source": [
    "import matplotlib.pyplot as plt\n",
    "plt.plot(data['MedInc'],data['HouseAge'],'o')"
   ]
  },
  {
   "cell_type": "code",
   "execution_count": 99,
   "id": "5bdcfb6b",
   "metadata": {},
   "outputs": [
    {
     "name": "stdout",
     "output_type": "stream",
     "text": [
      "The mean and standard deviation of the scaled data are:\n",
      " 4.957274900651862e-17 0.9999999999999999\n"
     ]
    }
   ],
   "source": [
    "from sklearn.preprocessing import StandardScaler\n",
    "\n",
    "data3 = df_data[['MedInc', 'HouseAge']]\n",
    "\n",
    "scalar = StandardScaler()\n",
    "scalar.fit(data3)\n",
    "\n",
    "data4 = scalar.transform(data3)\n",
    "print(\"The mean and standard deviation of the scaled data are:\\n\",np.mean(data4),np.std(data4))"
   ]
  },
  {
   "cell_type": "markdown",
   "id": "3d9caa5c",
   "metadata": {},
   "source": [
    "As you can see the mean ~ 0 and the std ~ 1. "
   ]
  },
  {
   "cell_type": "markdown",
   "id": "d28cdc94",
   "metadata": {},
   "source": [
    "## Z-score\n",
    "The Z-scores of the *MedInc* column of the data are:"
   ]
  },
  {
   "cell_type": "code",
   "execution_count": 61,
   "id": "bc284b5f",
   "metadata": {},
   "outputs": [
    {
     "data": {
      "text/plain": [
       "array([ 2.34476576,  2.33223796,  1.7826994 , ..., -1.14259331,\n",
       "       -1.05458292, -0.78012947])"
      ]
     },
     "execution_count": 61,
     "metadata": {},
     "output_type": "execute_result"
    }
   ],
   "source": [
    "scipy.stats.zscore(data)"
   ]
  },
  {
   "cell_type": "markdown",
   "id": "2124f049",
   "metadata": {},
   "source": [
    "## Calculating the T-Score\n",
    "t score is subtraction of the sample mean and population mean devided by the standard error. Let's also choose 20 samples from the data and calculate its mean salary and the standard deviation. We can say the degrees of freedom is (sample_size -1) which is 19 here."
   ]
  },
  {
   "cell_type": "code",
   "execution_count": 116,
   "id": "e223d584",
   "metadata": {},
   "outputs": [
    {
     "name": "stdout",
     "output_type": "stream",
     "text": [
      "The t score value is:\n",
      " 0.41823685753961504\n"
     ]
    }
   ],
   "source": [
    "import statistics\n",
    "\n",
    "sample_size = 20\n",
    "sample = df_data['MedInc'].sample(n=sample_size, random_state=1)\n",
    "\n",
    "average_pupulation_mean = df_data['MedInc'].mean()\n",
    "sample_mean = sample.mean()\n",
    "sample_std = statistics.stdev(sample)\n",
    "\n",
    "t_score = (average_pupulation_mean - sample_mean)/(sample_std/np.sqrt(sample_size))\n",
    "\n",
    "print(\"The t score value is:\\n\", t_score)"
   ]
  }
 ],
 "metadata": {
  "kernelspec": {
   "display_name": "Python 3 (ipykernel)",
   "language": "python",
   "name": "python3"
  },
  "language_info": {
   "codemirror_mode": {
    "name": "ipython",
    "version": 3
   },
   "file_extension": ".py",
   "mimetype": "text/x-python",
   "name": "python",
   "nbconvert_exporter": "python",
   "pygments_lexer": "ipython3",
   "version": "3.9.7"
  }
 },
 "nbformat": 4,
 "nbformat_minor": 5
}
