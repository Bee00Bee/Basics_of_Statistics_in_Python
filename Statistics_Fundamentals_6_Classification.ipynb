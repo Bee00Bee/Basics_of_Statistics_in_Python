{
 "cells": [
  {
   "cell_type": "markdown",
   "id": "72610c7e",
   "metadata": {},
   "source": [
    "# Classification\n",
    "\n",
    "The concept of classification comes from the fact that we are dealing with binary systems like 0, 1 or a system which has targets that are labeled as 1, 2, 3 or we like to study the systems which the target have different types such as yes/no or click/don't click. So target can include different classes as an example click is a class in click/don't click.\n",
    "\n",
    "In *classification* we predict two things: \n",
    "\n",
    "    1- The class of the target\n",
    "    2- The probability that a class of a target can occur. \n",
    "\n",
    "Here, we need to define a cutoff probability which can be used to estimate the class probability. If the class probability is below the cutoff probability then we accept the estimated probability otherwise we need to assign the new value to the class of interest. \n",
    "\n",
    "In multiclass classification we can face with two different predicitons:\n",
    "\n",
    "    1- Predict if the class is 1, or 2.\n",
    "    2- Given the class is greater than 1, predict if the class belongs to 0 or 2 (*conditional* probability)"
   ]
  },
  {
   "cell_type": "markdown",
   "id": "d77e7fae",
   "metadata": {},
   "source": [
    "Let's dive into a couple of definitions:\n",
    "\n",
    "    1- Conditional Probability:\n",
    "    The probability of an incident based on previous event.\n",
    "    \n",
    "    2- Covariance:\n",
    "    Is the strength of correlation between two variables.   \n",
    "    "
   ]
  },
  {
   "cell_type": "markdown",
   "id": "040d0a51",
   "metadata": {},
   "source": [
    "### Naive Bayes\n",
    "In *Naive Bayes* classification there is a ssumption which the features are independent from each others and they are not correlated which is a naive assupmtion :-) \n",
    "For example if we are talking about a flower, the features are the length, width and the color of the flower. If we want to predict the existence of a specific flower in a bag of flowers the features are independently contribute to the probability which the flower is going to be a rose (for example)."
   ]
  },
  {
   "cell_type": "code",
   "execution_count": 6,
   "id": "477a9007",
   "metadata": {},
   "outputs": [],
   "source": [
    "from sklearn.datasets import load_iris\n",
    "from sklearn.model_selection import train_test_split\n",
    "from sklearn.naive_bayes import GaussianNB\n",
    "import matplotlib.pyplot as plt"
   ]
  },
  {
   "cell_type": "code",
   "execution_count": 3,
   "id": "7231ba62",
   "metadata": {},
   "outputs": [],
   "source": [
    "X, y = load_iris(return_X_y=True)\n",
    "\n",
    "X_train, X_test, y_train, y_test = train_test_split(X, y, test_size=0.2, random_state=40)\n",
    "gnb = GaussianNB()\n",
    "y_pred = gnb.fit(X_train, y_train).predict(X_test)"
   ]
  },
  {
   "cell_type": "code",
   "execution_count": 4,
   "id": "a5db7714",
   "metadata": {},
   "outputs": [
    {
     "name": "stdout",
     "output_type": "stream",
     "text": [
      "Number of mislabeled points out of a total 30 points : 0\n"
     ]
    }
   ],
   "source": [
    "print(\"Number of mislabeled points out of a total %d points : %d\" % (X_test.shape[0], (y_test != y_pred).sum()))"
   ]
  },
  {
   "cell_type": "code",
   "execution_count": 10,
   "id": "785debca",
   "metadata": {},
   "outputs": [
    {
     "data": {
      "image/png": "[encoded data removed]",
      "text/plain": [
       "<Figure size 432x288 with 1 Axes>"
      ]
     },
     "metadata": {
      "needs_background": "light"
     },
     "output_type": "display_data"
    }
   ],
   "source": [
    "plt.plot(y_test, y_pred)\n",
    "plt.xlabel('y prediction')\n",
    "plt.ylabel('y test')\n",
    "plt.show()"
   ]
  },
  {
   "cell_type": "markdown",
   "id": "2038de10",
   "metadata": {},
   "source": [
    "### Discriminant Analysis\n",
    "\n",
    "This method is a classification algorithm that finds the most discriminative axes between the classes. The axes is used to build a hyperplane which the data is going to be projected on and it keeps the classes as far apart as possible. This method is also called *LDA*."
   ]
  },
  {
   "cell_type": "code",
   "execution_count": 13,
   "id": "b8e50a57",
   "metadata": {},
   "outputs": [
    {
     "name": "stdout",
     "output_type": "stream",
     "text": [
      "[1]\n"
     ]
    }
   ],
   "source": [
    "import numpy as np\n",
    "from sklearn.discriminant_analysis import LinearDiscriminantAnalysis\n",
    "\n",
    "X = np.array([[-1, -1], [-2, -1], [-3, -2], [1, 1], [2, 1], [3, 2]])\n",
    "y = np.array([1, 1, 1, 2, 2, 2])\n",
    "clf = LinearDiscriminantAnalysis()\n",
    "clf.fit(X, y)\n",
    "\n",
    "print(clf.predict([[-0.8, -1]]))"
   ]
  },
  {
   "cell_type": "markdown",
   "id": "40eefdca",
   "metadata": {},
   "source": [
    "### Logistic Regression\n",
    "\n",
    "In contrast with *linear regression*, *logistic regression* deals with classification problems. This model is also called *Logit Regression*. This model predicts the class of the feature based on its predicted probability. If we consider the binary system and we define the threshold as 0.5 if any predicted probability is greater than 0.5 then the class of the object is 1 otherwise is 0. "
   ]
  },
  {
   "cell_type": "code",
   "execution_count": 10,
   "id": "5e5bd29e",
   "metadata": {},
   "outputs": [],
   "source": [
    "from sklearn import datasets\n",
    "import numpy as np \n",
    "import matplotlib.pyplot as plt\n",
    "\n",
    "iris = datasets.load_iris()\n",
    "\n",
    "x = iris['data'][:,3:] # petal width\n",
    "y = []\n",
    "\n",
    "for i in iris['target']: # 1 if iris-virginica, else 0\n",
    "    if i == 2:\n",
    "        y.append(1)\n",
    "    elif i !=2:\n",
    "        y.append(0)"
   ]
  },
  {
   "cell_type": "code",
   "execution_count": 71,
   "id": "9b837acd",
   "metadata": {},
   "outputs": [],
   "source": [
    "y2 = np.asarray(y)"
   ]
  },
  {
   "cell_type": "code",
   "execution_count": 5,
   "id": "9995771b",
   "metadata": {},
   "outputs": [
    {
     "name": "stdout",
     "output_type": "stream",
     "text": [
      "The accuracy score is: 0.96\n"
     ]
    }
   ],
   "source": [
    "from sklearn.linear_model import LogisticRegression\n",
    "\n",
    "log_reg = LogisticRegression()\n",
    "log_reg.fit(x, y)\n",
    "print('The accuracy score is:', log_reg.score(x, y))"
   ]
  },
  {
   "cell_type": "markdown",
   "id": "58bd5c95",
   "metadata": {},
   "source": [
    "Now let's look at the x values which are between 0 and 3 meaning the petal width is in this range. "
   ]
  },
  {
   "cell_type": "code",
   "execution_count": 11,
   "id": "519030ad",
   "metadata": {},
   "outputs": [
    {
     "data": {
      "text/plain": [
       "<matplotlib.legend.Legend at 0x7f1b3bbee850>"
      ]
     },
     "execution_count": 11,
     "metadata": {},
     "output_type": "execute_result"
    },
    {
     "data": {
      "image/png": "[encoded data removed]",
      "text/plain": [
       "<Figure size 432x288 with 1 Axes>"
      ]
     },
     "metadata": {
      "needs_background": "light"
     },
     "output_type": "display_data"
    }
   ],
   "source": [
    "X_new = np.linspace(0, 3, 1000).reshape(-1, 1)\n",
    "y_proba = log_reg.predict_proba(X_new)\n",
    "plt.plot(X_new, y_proba[:, 1], \"g-\", label=\"Iris-Virginica\")\n",
    "plt.plot(X_new, y_proba[:, 0], \"b--\", label=\"Not Iris-Virginica\")\n",
    "plt.legend([\"Iris Virginica\",\"Not Iris-Virginica\"])"
   ]
  },
  {
   "cell_type": "markdown",
   "id": "6901e1e5",
   "metadata": {},
   "source": [
    "From the plot above it shows that the values above x > 1.5 are predicted as \"Iris Virginica\" and below it are predicted as not \"Iris Virginica\"."
   ]
  },
  {
   "cell_type": "code",
   "execution_count": 12,
   "id": "78e558a2",
   "metadata": {},
   "outputs": [
    {
     "name": "stdout",
     "output_type": "stream",
     "text": [
      "[[98  2]\n",
      " [ 4 46]]\n"
     ]
    }
   ],
   "source": [
    "from sklearn import metrics\n",
    "import seaborn as sns\n",
    "\n",
    "y_pred = log_reg.predict(x)\n",
    "cm = metrics.confusion_matrix(y, y_pred)\n",
    "print(cm)"
   ]
  },
  {
   "cell_type": "code",
   "execution_count": 13,
   "id": "94ecc618",
   "metadata": {},
   "outputs": [
    {
     "data": {
      "image/png": "[encoded data removed]",
      "text/plain": [
       "<Figure size 648x648 with 2 Axes>"
      ]
     },
     "metadata": {
      "needs_background": "light"
     },
     "output_type": "display_data"
    }
   ],
   "source": [
    "plt.figure(figsize=(9,9))\n",
    "sns.heatmap(cm, annot=True, fmt=\".3f\", linewidths=.5, square = True, cmap = 'Blues_r');\n",
    "plt.ylabel('Actual label');\n",
    "plt.xlabel('Predicted label');\n",
    "all_sample_title = 'Accuracy Score: {0}'.format(log_reg.score(x, y))\n",
    "plt.title(all_sample_title, size = 15);"
   ]
  },
  {
   "cell_type": "markdown",
   "id": "6e2f7e64",
   "metadata": {},
   "source": [
    "From above we can see that the 98 of samples are correctly predicted as 0, and 46 correctly predicted as 1. "
   ]
  },
  {
   "cell_type": "code",
   "execution_count": 33,
   "id": "b6ae87c7",
   "metadata": {},
   "outputs": [
    {
     "data": {
      "text/plain": [
       "array([-6.32987523, -6.32987523, -6.32987523, -6.32987523, -6.32987523,\n",
       "       -5.46571276, -5.89753291, -6.32987523, -6.32987523, -6.76255678,\n",
       "       -6.32987523, -6.32987523, -6.76255678, -6.76255678, -6.32987523,\n",
       "       -5.46571276, -5.46571276, -5.89753291, -5.89753291, -5.89753291,\n",
       "       -6.32987523, -5.46571276, -6.32987523, -5.03469545, -6.32987523,\n",
       "       -6.32987523, -5.46571276, -6.32987523, -6.32987523, -6.32987523,\n",
       "       -6.32987523, -5.46571276, -6.76255678, -6.32987523, -6.32987523,\n",
       "       -6.32987523, -6.32987523, -6.76255678, -6.32987523, -6.32987523,\n",
       "       -5.89753291, -5.89753291, -6.32987523, -4.6049105 , -5.46571276,\n",
       "       -5.89753291, -6.32987523, -6.32987523, -6.32987523, -6.32987523,\n",
       "       -1.40871026, -1.09990219, -1.09990219, -1.75213643, -1.09990219,\n",
       "       -1.75213643, -0.83257494, -2.91722476, -1.75213643, -1.40871026,\n",
       "       -2.91722476, -1.09990219, -2.91722476, -1.40871026, -1.75213643,\n",
       "       -1.40871026, -1.09990219, -2.91722476, -1.09990219, -2.51282667,\n",
       "       -0.4357742 , -1.75213643, -1.09990219, -2.12253131, -1.75213643,\n",
       "       -1.40871026, -1.40871026, -0.61105298, -1.09990219, -2.91722476,\n",
       "       -2.51282667, -2.91722476, -2.12253131, -0.83257494, -1.09990219,\n",
       "       -0.83257494, -1.09990219, -1.75213643, -1.75213643, -1.75213643,\n",
       "       -2.12253131, -1.40871026, -2.12253131, -2.91722476, -1.75213643,\n",
       "       -2.12253131, -1.75213643, -1.75213643, -2.51282667, -1.75213643,\n",
       "       -0.0259648 , -0.30314317, -0.13876751, -0.4357742 , -0.09213512,\n",
       "       -0.13876751, -0.61105298, -0.4357742 , -0.4357742 , -0.0259648 ,\n",
       "       -0.20668065, -0.30314317, -0.13876751, -0.20668065, -0.03976987,\n",
       "       -0.06069539, -0.4357742 , -0.09213512, -0.06069539, -1.09990219,\n",
       "       -0.06069539, -0.20668065, -0.20668065, -0.4357742 , -0.13876751,\n",
       "       -0.4357742 , -0.4357742 , -0.4357742 , -0.13876751, -0.83257494,\n",
       "       -0.30314317, -0.20668065, -0.09213512, -1.09990219, -1.40871026,\n",
       "       -0.06069539, -0.03976987, -0.4357742 , -0.4357742 , -0.13876751,\n",
       "       -0.03976987, -0.06069539, -0.30314317, -0.06069539, -0.0259648 ,\n",
       "       -0.06069539, -0.30314317, -0.20668065, -0.06069539, -0.4357742 ])"
      ]
     },
     "execution_count": 33,
     "metadata": {},
     "output_type": "execute_result"
    }
   ],
   "source": [
    "y_proba = log_reg.predict_log_proba(x)[:,1]\n",
    "\n",
    "y_proba"
   ]
  },
  {
   "cell_type": "markdown",
   "id": "6f25f56e",
   "metadata": {},
   "source": [
    "y_proba is a matrix of two column data which the first column is the probablity of class 0 and the second one is the probablity of the class 1"
   ]
  },
  {
   "cell_type": "markdown",
   "id": "7226c288",
   "metadata": {},
   "source": [
    "Now we can plot the ROC curve which stands for *receiver operating characterstic* (ROC) curve. This shows the variation of *true positive rate* vs *false positive rate*. "
   ]
  },
  {
   "cell_type": "code",
   "execution_count": 34,
   "id": "9040475a",
   "metadata": {},
   "outputs": [],
   "source": [
    "from sklearn.metrics import roc_curve\n",
    "fpr, tpr, thresholds = roc_curve(y, y_proba)"
   ]
  },
  {
   "cell_type": "code",
   "execution_count": 40,
   "id": "de499038",
   "metadata": {},
   "outputs": [
    {
     "data": {
      "image/png": "[encoded data removed]",
      "text/plain": [
       "<Figure size 432x288 with 1 Axes>"
      ]
     },
     "metadata": {
      "needs_background": "light"
     },
     "output_type": "display_data"
    }
   ],
   "source": [
    "plt.plot([0, 1], 'k--')\n",
    "plt.plot(fpr, tpr, label = 'logistic Regression')\n",
    "plt.xlabel('False Positive Rate')\n",
    "plt.ylabel('True Positive Rate')\n",
    "plt.title('Logistic Regression ROC Curve')\n",
    "plt.show()"
   ]
  }
 ],
 "metadata": {
  "kernelspec": {
   "display_name": "Python 3 (ipykernel)",
   "language": "python",
   "name": "python3"
  },
  "language_info": {
   "codemirror_mode": {
    "name": "ipython",
    "version": 3
   },
   "file_extension": ".py",
   "mimetype": "text/x-python",
   "name": "python",
   "nbconvert_exporter": "python",
   "pygments_lexer": "ipython3",
   "version": "3.9.7"
  }
 },
 "nbformat": 4,
 "nbformat_minor": 5
}
