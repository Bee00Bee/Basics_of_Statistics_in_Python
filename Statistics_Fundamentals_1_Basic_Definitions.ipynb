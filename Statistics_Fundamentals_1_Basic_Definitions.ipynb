{
 "cells": [
  {
   "cell_type": "markdown",
   "id": "2cf79439",
   "metadata": {},
   "source": [
    "# Fundamentals of Statistics\n",
    "\n",
    "Having the knowledge of statistics in data science is essential. In this notebook I will go over some key elements, words and etc where you can get the feel of it.\n",
    "\n",
    "In mathematics there are different types of data:\n",
    "* Numeric: numbers such as 1, 3, 9, -1, 2.3, ... \n",
    "    That this category is splitted into two main categories:\n",
    "    * Continuous: any values between integer values.\n",
    "    * Discrete: integer values\n",
    "* Categorial\n",
    "    This type has also numeric and words to express the vairables. Such as\n",
    "    * Binary: 0/1, True/False\n",
    "    * Ordinal: This type has specific ordering. \n",
    "    \n",
    "In statistics there are terms which we will face with them whenever we deal with data. These terms are:\n",
    "* Mean: average of all values devided by the number of values.\n",
    "* Weighted Mean: Sum of all values multiplied by the weight then devided by the sum of all weights.\n",
    "* Median: It is a value in a dataset which half of the dataset sits below it and the rest have above it. \n",
    "* Percentile: A value that p percentage of the data lies below.\n",
    "* Weighted median: The value that the one-half of the sum of the weights lies below and the rest half above it. \n",
    "* Trimmed mean: The average of all values after removing extreme values.\n",
    "* Outlier: The data point which doesn't follow the general trend of the data.\n",
    "* Variance: The expectation value of the difference of each data points from the mean of the dataset devided by the (total number of data points-1), often it is called mean-squared error.\n",
    "* Standard deviation: Is the square root of the variance. \n",
    "\n",
    "\n",
    "\n",
    "\n",
    "Now we want to see how to compute the above defined words. The dataset is from the [world bank](https://databank.worldbank.org/indicator/NY.GDP.MKTP.CD/1ff4a498/Popular-Indicators#) where the GDP of most of the counties are recorded. "
   ]
  },
  {
   "cell_type": "code",
   "execution_count": 13,
   "id": "b78af245",
   "metadata": {},
   "outputs": [],
   "source": [
    "import os\n",
    "os.chdir(r'/home/mn/Work/GitHub/Statistics/Popular Indicators')"
   ]
  },
  {
   "cell_type": "code",
   "execution_count": 14,
   "id": "bc4a06b1",
   "metadata": {},
   "outputs": [],
   "source": [
    "import matplotlib.pyplot as plt\n",
    "import pylab as p\n",
    "import numpy as np\n",
    "import pandas as pd\n",
    "from numpy import random\n",
    "\n",
    "df = pd.read_csv('1d633b4c-d74c-494a-941c-fe25b69fa39d_Data.csv')"
   ]
  },
  {
   "cell_type": "markdown",
   "id": "034e8302",
   "metadata": {},
   "source": [
    "Let's look at the list of the countries in the dataset:"
   ]
  },
  {
   "cell_type": "code",
   "execution_count": 9,
   "id": "38ecdce5",
   "metadata": {},
   "outputs": [
    {
     "data": {
      "text/plain": [
       "array(['Afghanistan', 'Albania', 'Algeria', 'American Samoa', 'Andorra',\n",
       "       'Angola', 'Antigua and Barbuda', 'Argentina', 'Armenia', 'Aruba',\n",
       "       'Australia', 'Austria', 'Azerbaijan', 'Bahamas, The', 'Bahrain',\n",
       "       'Bangladesh', 'Barbados', 'Belarus', 'Belgium', 'Belize', 'Benin',\n",
       "       'Bermuda', 'Bhutan', 'Bolivia', 'Bosnia and Herzegovina',\n",
       "       'Botswana', 'Brazil', 'British Virgin Islands',\n",
       "       'Brunei Darussalam', 'Bulgaria', 'Burkina Faso', 'Burundi',\n",
       "       'Cabo Verde', 'Cambodia', 'Cameroon', 'Canada', 'Cayman Islands',\n",
       "       'Central African Republic', 'Chad', 'Channel Islands', 'Chile',\n",
       "       'China', 'Colombia', 'Comoros', 'Congo, Dem. Rep.', 'Congo, Rep.',\n",
       "       'Costa Rica', \"Cote d'Ivoire\", 'Croatia', 'Cuba', 'Curacao',\n",
       "       'Cyprus', 'Czech Republic', 'Denmark', 'Djibouti', 'Dominica',\n",
       "       'Dominican Republic', 'Ecuador', 'Egypt, Arab Rep.', 'El Salvador',\n",
       "       'Equatorial Guinea', 'Eritrea', 'Estonia', 'Ethiopia',\n",
       "       'Faroe Islands', 'Fiji', 'Finland', 'France', 'French Polynesia',\n",
       "       'Gabon', 'Gambia, The', 'Georgia', 'Germany', 'Ghana', 'Gibraltar',\n",
       "       'Greece', 'Greenland', 'Grenada', 'Guam', 'Guatemala', 'Guinea',\n",
       "       'Guinea-Bissau', 'Guyana', 'Haiti', 'Honduras',\n",
       "       'Hong Kong SAR, China', 'Hungary', 'Iceland', 'India', 'Indonesia',\n",
       "       'Iran, Islamic Rep.', 'Iraq', 'Ireland', 'Isle of Man', 'Israel',\n",
       "       'Italy', 'Jamaica', 'Japan', 'Jordan', 'Kazakhstan', 'Kenya',\n",
       "       'Kiribati', \"Korea, Dem. People's Rep.\", 'Korea, Rep.', 'Kosovo',\n",
       "       'Kuwait', 'Kyrgyz Republic', 'Lao PDR', 'Latvia', 'Lebanon',\n",
       "       'Lesotho', 'Liberia', 'Libya', 'Liechtenstein', 'Lithuania',\n",
       "       'Luxembourg', 'Macao SAR, China', 'North Macedonia', 'Madagascar',\n",
       "       'Malawi', 'Malaysia', 'Maldives', 'Mali', 'Malta',\n",
       "       'Marshall Islands', 'Mauritania', 'Mauritius', 'Mexico',\n",
       "       'Micronesia, Fed. Sts.', 'Moldova', 'Monaco', 'Mongolia',\n",
       "       'Montenegro', 'Morocco', 'Mozambique', 'Myanmar', 'Namibia',\n",
       "       'Nauru', 'Nepal', 'Netherlands', 'New Caledonia', 'New Zealand',\n",
       "       'Nicaragua', 'Niger', 'Nigeria', 'Northern Mariana Islands',\n",
       "       'Norway', 'Oman', 'Pakistan', 'Palau', 'Panama',\n",
       "       'Papua New Guinea', 'Paraguay', 'Peru', 'Philippines', 'Poland',\n",
       "       'Portugal', 'Puerto Rico', 'Qatar', 'Romania',\n",
       "       'Russian Federation', 'Rwanda', 'Samoa', 'San Marino',\n",
       "       'Sao Tome and Principe', 'Saudi Arabia', 'Senegal', 'Serbia',\n",
       "       'Seychelles', 'Sierra Leone', 'Singapore',\n",
       "       'Sint Maarten (Dutch part)', 'Slovak Republic', 'Slovenia',\n",
       "       'Solomon Islands', 'Somalia', 'South Africa', 'South Sudan',\n",
       "       'Spain', 'Sri Lanka', 'St. Kitts and Nevis', 'St. Lucia',\n",
       "       'St. Martin (French part)', 'St. Vincent and the Grenadines',\n",
       "       'Sudan', 'Suriname', 'Eswatini', 'Sweden', 'Switzerland',\n",
       "       'Syrian Arab Republic', 'Tajikistan', 'Tanzania', 'Thailand',\n",
       "       'Timor-Leste', 'Togo', 'Tonga', 'Trinidad and Tobago', 'Tunisia',\n",
       "       'Turkey', 'Turkmenistan', 'Turks and Caicos Islands', 'Tuvalu',\n",
       "       'Uganda', 'Ukraine', 'United Arab Emirates', 'United Kingdom',\n",
       "       'United States', 'Uruguay', 'Uzbekistan', 'Vanuatu',\n",
       "       'Venezuela, RB', 'Vietnam', 'Virgin Islands (U.S.)',\n",
       "       'West Bank and Gaza', 'Yemen, Rep.', 'Zambia', 'Zimbabwe', nan],\n",
       "      dtype=object)"
      ]
     },
     "execution_count": 9,
     "metadata": {},
     "output_type": "execute_result"
    }
   ],
   "source": [
    "df['Country Name'].unique()"
   ]
  },
  {
   "cell_type": "markdown",
   "id": "0e406035",
   "metadata": {},
   "source": [
    "Here I want to extract the data only from the United States of America\n",
    "\n"
   ]
  },
  {
   "cell_type": "code",
   "execution_count": null,
   "id": "c1f7ccc9",
   "metadata": {},
   "outputs": [],
   "source": [
    "USA = df[df['Country Name']=='United States']"
   ]
  },
  {
   "cell_type": "markdown",
   "id": "2f1531c3",
   "metadata": {},
   "source": [
    "Now it is time to get the GDP data of the USA:"
   ]
  },
  {
   "cell_type": "code",
   "execution_count": 17,
   "id": "0c358bfe",
   "metadata": {},
   "outputs": [
    {
     "data": {
      "text/html": [
       "<div>\n",
       "<style scoped>\n",
       "    .dataframe tbody tr th:only-of-type {\n",
       "        vertical-align: middle;\n",
       "    }\n",
       "\n",
       "    .dataframe tbody tr th {\n",
       "        vertical-align: top;\n",
       "    }\n",
       "\n",
       "    .dataframe thead th {\n",
       "        text-align: right;\n",
       "    }\n",
       "</style>\n",
       "<table border=\"1\" class=\"dataframe\">\n",
       "  <thead>\n",
       "    <tr style=\"text-align: right;\">\n",
       "      <th></th>\n",
       "      <th>Series Name</th>\n",
       "      <th>Series Code</th>\n",
       "      <th>Country Name</th>\n",
       "      <th>Country Code</th>\n",
       "      <th>2000 [YR2000]</th>\n",
       "      <th>2001 [YR2001]</th>\n",
       "      <th>2002 [YR2002]</th>\n",
       "      <th>2003 [YR2003]</th>\n",
       "      <th>2004 [YR2004]</th>\n",
       "      <th>2005 [YR2005]</th>\n",
       "      <th>2006 [YR2006]</th>\n",
       "      <th>2007 [YR2007]</th>\n",
       "      <th>2008 [YR2008]</th>\n",
       "      <th>2009 [YR2009]</th>\n",
       "      <th>2010 [YR2010]</th>\n",
       "      <th>2011 [YR2011]</th>\n",
       "      <th>2012 [YR2012]</th>\n",
       "      <th>2013 [YR2013]</th>\n",
       "      <th>2014 [YR2014]</th>\n",
       "      <th>2015 [YR2015]</th>\n",
       "    </tr>\n",
       "  </thead>\n",
       "  <tbody>\n",
       "    <tr>\n",
       "      <th>10622</th>\n",
       "      <td>GDP per capita (current US$)</td>\n",
       "      <td>NY.GDP.PCAP.CD</td>\n",
       "      <td>United States</td>\n",
       "      <td>USA</td>\n",
       "      <td>36334.9087770589</td>\n",
       "      <td>37133.2428088526</td>\n",
       "      <td>38023.1611144021</td>\n",
       "      <td>39496.4858751381</td>\n",
       "      <td>41712.8010675545</td>\n",
       "      <td>44114.7477810544</td>\n",
       "      <td>46298.7314440927</td>\n",
       "      <td>47975.9676958038</td>\n",
       "      <td>48382.5584490552</td>\n",
       "      <td>47099.9804711343</td>\n",
       "      <td>48466.6576026922</td>\n",
       "      <td>49882.5581321495</td>\n",
       "      <td>51602.9310457907</td>\n",
       "      <td>53106.5367672165</td>\n",
       "      <td>55049.9883272312</td>\n",
       "      <td>56863.3714957652</td>\n",
       "    </tr>\n",
       "  </tbody>\n",
       "</table>\n",
       "</div>"
      ],
      "text/plain": [
       "                        Series Name     Series Code   Country Name  \\\n",
       "10622  GDP per capita (current US$)  NY.GDP.PCAP.CD  United States   \n",
       "\n",
       "      Country Code     2000 [YR2000]     2001 [YR2001]     2002 [YR2002]  \\\n",
       "10622          USA  36334.9087770589  37133.2428088526  38023.1611144021   \n",
       "\n",
       "          2003 [YR2003]     2004 [YR2004]     2005 [YR2005]     2006 [YR2006]  \\\n",
       "10622  39496.4858751381  41712.8010675545  44114.7477810544  46298.7314440927   \n",
       "\n",
       "          2007 [YR2007]     2008 [YR2008]     2009 [YR2009]     2010 [YR2010]  \\\n",
       "10622  47975.9676958038  48382.5584490552  47099.9804711343  48466.6576026922   \n",
       "\n",
       "          2011 [YR2011]     2012 [YR2012]     2013 [YR2013]     2014 [YR2014]  \\\n",
       "10622  49882.5581321495  51602.9310457907  53106.5367672165  55049.9883272312   \n",
       "\n",
       "          2015 [YR2015]  \n",
       "10622  56863.3714957652  "
      ]
     },
     "execution_count": 17,
     "metadata": {},
     "output_type": "execute_result"
    }
   ],
   "source": [
    "USA_GDP = USA[USA['Series Name'] == \"GDP per capita (current US$)\"]\n",
    "USA_GDP"
   ]
  },
  {
   "cell_type": "markdown",
   "id": "797db435",
   "metadata": {},
   "source": [
    "Apparently the data is from the year 2000 to 2015. Let's plot the GDP data through these years. "
   ]
  },
  {
   "cell_type": "code",
   "execution_count": 98,
   "id": "f2dbc878",
   "metadata": {},
   "outputs": [
    {
     "name": "stdout",
     "output_type": "stream",
     "text": [
      "The GDP values for all years from 2000 to 2015\n",
      "           2000 [YR2000]     2001 [YR2001]     2002 [YR2002]     2003 [YR2003]  \\\n",
      "10622  36334.9087770589  37133.2428088526  38023.1611144021  39496.4858751381   \n",
      "\n",
      "          2004 [YR2004]     2005 [YR2005]     2006 [YR2006]     2007 [YR2007]  \\\n",
      "10622  41712.8010675545  44114.7477810544  46298.7314440927  47975.9676958038   \n",
      "\n",
      "          2008 [YR2008]     2009 [YR2009]     2010 [YR2010]     2011 [YR2011]  \\\n",
      "10622  48382.5584490552  47099.9804711343  48466.6576026922  49882.5581321495   \n",
      "\n",
      "          2012 [YR2012]     2013 [YR2013]     2014 [YR2014]     2015 [YR2015]  \n",
      "10622  51602.9310457907  53106.5367672165  55049.9883272312  56863.3714957652  \n"
     ]
    }
   ],
   "source": [
    "GDP_values = USA_GDP[['2000 [YR2000]', '2001 [YR2001]', '2002 [YR2002]', '2003 [YR2003]',\n",
    "       '2004 [YR2004]', '2005 [YR2005]', '2006 [YR2006]', '2007 [YR2007]',\n",
    "       '2008 [YR2008]', '2009 [YR2009]', '2010 [YR2010]', '2011 [YR2011]',\n",
    "       '2012 [YR2012]', '2013 [YR2013]', '2014 [YR2014]', '2015 [YR2015]']]\n",
    "\n",
    "print(\"The GDP values for all years from 2000 to 2015\\n\", GDP_values)\n",
    "\n",
    "# create a discrete numeric array from 2000 to 2015\n",
    "x = np.linspace(2000,2015,16)\n",
    "y = GDP_values.values\n"
   ]
  },
  {
   "cell_type": "markdown",
   "id": "be896266",
   "metadata": {},
   "source": [
    "The plot of GDP vs. years looks linear so we didn't expect any other than that. "
   ]
  },
  {
   "cell_type": "code",
   "execution_count": 90,
   "id": "2c078de4",
   "metadata": {},
   "outputs": [
    {
     "data": {
      "text/plain": [
       "[<matplotlib.lines.Line2D at 0x7f914313af70>]"
      ]
     },
     "execution_count": 90,
     "metadata": {},
     "output_type": "execute_result"
    },
    {
     "data": {
      "image/png": "[encoded data removed]",
      "text/plain": [
       "<Figure size 432x288 with 1 Axes>"
      ]
     },
     "metadata": {
      "needs_background": "light"
     },
     "output_type": "display_data"
    }
   ],
   "source": [
    "plt.plot(x, y[0])"
   ]
  },
  {
   "cell_type": "code",
   "execution_count": 168,
   "id": "e68fdfae",
   "metadata": {},
   "outputs": [
    {
     "name": "stdout",
     "output_type": "stream",
     "text": [
      "The average of the GDPs is:  46346.53930343699\n"
     ]
    }
   ],
   "source": [
    "GDPS = []\n",
    "sum_GDP =0\n",
    "\n",
    "# calculate the sum of all GDPs\n",
    "for GDP in y[0]:\n",
    "    sum_GDP = sum_GDP + float(GDP)\n",
    "    GDPS.append(GDP)\n",
    "    \n",
    "print(\"The average of the GDPs is: \", sum_GDP/len(GDP))"
   ]
  },
  {
   "cell_type": "markdown",
   "id": "6ae9b056",
   "metadata": {},
   "source": [
    "## Weighted Mean"
   ]
  },
  {
   "cell_type": "markdown",
   "id": "fc49e3f6",
   "metadata": {},
   "source": [
    "Now let's work on the weighted mean. Here, the numbers are made by random generator. The weights and numbers are generated randomly from the [numpy](https://numpy.org/doc/1.16/reference/routines.random.html) library. "
   ]
  },
  {
   "cell_type": "code",
   "execution_count": 26,
   "id": "e8fae06b",
   "metadata": {},
   "outputs": [],
   "source": [
    "weights = []\n",
    "nums = []\n",
    "\n",
    "for i in range(0,20):\n",
    "    weights.append(random.rand(1)[0])\n",
    "    nums.append(random.randint(10))"
   ]
  },
  {
   "cell_type": "code",
   "execution_count": 27,
   "id": "ad0afb39",
   "metadata": {},
   "outputs": [
    {
     "name": "stdout",
     "output_type": "stream",
     "text": [
      "The list of numbers are:\n",
      "  [9, 5, 8, 0, 9, 6, 4, 3, 0, 1, 0, 6, 5, 2, 2, 5, 8, 8, 7, 0] \n",
      "\n",
      "And the list of weights is:\n",
      " [0.8644794300545998, 0.26420330756000265, 0.3598161964275147, 0.6219193679203014, 0.9738020779272523, 0.6846879064930221, 0.343346239774423, 0.8799982885634318, 0.7820920174026474, 0.2702082620297578, 0.29880022894515046, 0.5277146463087466, 0.18511430600649503, 0.5190116274640558, 0.019318748778536787, 0.4657098785919809, 0.6362906103447775, 0.18161285133076377, 0.8650896390897158, 0.6884132523859433]\n"
     ]
    }
   ],
   "source": [
    "print(\"The list of numbers are:\\n \", nums, \"\\n\\nAnd the list of weights is:\\n\", weights)"
   ]
  },
  {
   "cell_type": "code",
   "execution_count": 28,
   "id": "e1773dc1",
   "metadata": {},
   "outputs": [
    {
     "name": "stdout",
     "output_type": "stream",
     "text": [
      "Weighted Mean:\n",
      " 4.719466200100577\n"
     ]
    }
   ],
   "source": [
    "weight_multi_nums = 0\n",
    "weight_sums = 0\n",
    "\n",
    "for i in range(len(nums)):\n",
    "    weight_multi_nums = weight_multi_nums + (weights[i]*nums[i])\n",
    "    weight_sums = weight_sums + weights[i]\n",
    "    \n",
    "print(\"Weighted Mean:\\n\",weight_multi_nums/weight_sums)"
   ]
  },
  {
   "cell_type": "markdown",
   "id": "cdadad4f",
   "metadata": {},
   "source": [
    "## Median"
   ]
  },
  {
   "cell_type": "markdown",
   "id": "3f7c32f4",
   "metadata": {},
   "source": [
    "To calculate the *median* we can use the [statistics](https://www.w3schools.com/python/ref_stat_median.asp) library. "
   ]
  },
  {
   "cell_type": "code",
   "execution_count": 29,
   "id": "b6500030",
   "metadata": {},
   "outputs": [
    {
     "name": "stdout",
     "output_type": "stream",
     "text": [
      "The Median value of numbers is:\n",
      " 5.0\n"
     ]
    }
   ],
   "source": [
    "import statistics as stat\n",
    "\n",
    "print(\"The Median value of numbers is:\\n\", stat.median(nums))"
   ]
  },
  {
   "cell_type": "markdown",
   "id": "ad2d8c90",
   "metadata": {},
   "source": [
    "## Percentile\n",
    "To calculate the *percentile* we can use [numpy](https://www.geeksforgeeks.org/numpy-percentile-in-python/) library. Let's calculate the percentiles of the numbers.  "
   ]
  },
  {
   "cell_type": "code",
   "execution_count": 173,
   "id": "d4e7d739",
   "metadata": {},
   "outputs": [
    {
     "name": "stdout",
     "output_type": "stream",
     "text": [
      "The  25 th percentile of the numbers is:  2.0\n",
      "The  50 th percentile of the numbers is:  5.5\n",
      "The  75 th percentile of the numbers is:  7.0\n"
     ]
    }
   ],
   "source": [
    "percentiles = [25, 50, 75]\n",
    "\n",
    "for percentile in percentiles:\n",
    "    print(\"The \",percentile,\"th percentile of the numbers is: \", np.percentile(nums,percentile))"
   ]
  },
  {
   "cell_type": "markdown",
   "id": "06d6fd12",
   "metadata": {},
   "source": [
    "## Weighted Median\n",
    "To calculate the *weighted median* we use the [weigthedstats](https://pypi.org/project/weightedstats/)"
   ]
  },
  {
   "cell_type": "code",
   "execution_count": 177,
   "id": "21c529c6",
   "metadata": {},
   "outputs": [
    {
     "name": "stdout",
     "output_type": "stream",
     "text": [
      "The weighted median is:\n",
      " 5\n"
     ]
    }
   ],
   "source": [
    "import weightedstats as ws\n",
    "\n",
    "print(\"The weighted median is:\\n\", ws.weighted_median(nums, weights))"
   ]
  },
  {
   "cell_type": "markdown",
   "id": "3fe45edd",
   "metadata": {},
   "source": [
    "## Trimmed Mean\n",
    "To calculate the *trimmed mean* we use the [scipy](https://www.statology.org/trimmed-mean-in-python/) library."
   ]
  },
  {
   "cell_type": "code",
   "execution_count": 188,
   "id": "686178e8",
   "metadata": {},
   "outputs": [
    {
     "name": "stdout",
     "output_type": "stream",
     "text": [
      "10.0 % trimmed mean is:  5.0625\n",
      "20.0 % trimmed mean is:  5.083333333333333\n",
      "30.0 % trimmed mean is:  5.375\n",
      "40.0 % trimmed mean is:  5.5\n"
     ]
    }
   ],
   "source": [
    "from scipy import stats\n",
    "\n",
    "trims = [0.1, 0.2, 0.3, 0.4]\n",
    "\n",
    "for trim in trims:\n",
    "    print(trim*100,\"% trimmed mean is: \",stats.trim_mean(nums, trim))"
   ]
  },
  {
   "cell_type": "markdown",
   "id": "026a1699",
   "metadata": {},
   "source": [
    "## Outliers\n",
    "To find the ouliers we need to caluclate the 25th and 75th percentile of the numbers then calculate the percentile difference. If the data points lie below (25th-1.5).(percentile difference) and above\n",
    "(75th+1.5).(percentile difference) is an outlier. "
   ]
  },
  {
   "cell_type": "code",
   "execution_count": 9,
   "id": "08012cea",
   "metadata": {},
   "outputs": [],
   "source": [
    "from numpy.random import seed\n",
    "from numpy.random import randn\n",
    "from numpy import mean\n",
    "from numpy import std"
   ]
  },
  {
   "cell_type": "markdown",
   "id": "67ea3c46",
   "metadata": {},
   "source": [
    "Here we create a dataset"
   ]
  },
  {
   "cell_type": "code",
   "execution_count": 22,
   "id": "3f2f307b",
   "metadata": {},
   "outputs": [
    {
     "name": "stdout",
     "output_type": "stream",
     "text": [
      "mean=102.454 stdv=20.931\n"
     ]
    }
   ],
   "source": [
    "seed(1)\n",
    "# create the dataset\n",
    "data = 23 * randn(200) + 100\n",
    "\n",
    "# summarize\n",
    "print('mean=%.3f stdv=%.3f' % (mean(data), std(data)))"
   ]
  },
  {
   "cell_type": "markdown",
   "id": "813e84f3",
   "metadata": {},
   "source": [
    "The created dataset has the mean around 100 and the standard deviation around 4.6"
   ]
  },
  {
   "cell_type": "code",
   "execution_count": 23,
   "id": "611d3534",
   "metadata": {},
   "outputs": [
    {
     "name": "stdout",
     "output_type": "stream",
     "text": [
      "The outliers are:  [47.0646099717535, 43.99873142553581, 158.15149125654716]\n"
     ]
    }
   ],
   "source": [
    "outliers = []\n",
    "\n",
    "q25, q75 = np.percentile(sorted(data),[25,75])\n",
    "\n",
    "q_diff = q75 - q25\n",
    "\n",
    "lower_bound = q25 - (1.5*q_diff)\n",
    "upper_bound = q75 + (1.5*q_diff)\n",
    "\n",
    "for num in data:\n",
    "    if (num <= lower_bound or num >= upper_bound):\n",
    "        outliers.append(num)\n",
    "\n",
    "print(\"The outliers are: \", outliers)"
   ]
  },
  {
   "cell_type": "markdown",
   "id": "2aee69fc",
   "metadata": {},
   "source": [
    "## Variance & Standard Deviation.\n",
    "Here, I use the data points which are used in calculating the outliers. "
   ]
  },
  {
   "cell_type": "code",
   "execution_count": 32,
   "id": "4c316808",
   "metadata": {},
   "outputs": [
    {
     "name": "stdout",
     "output_type": "stream",
     "text": [
      "The variance of the dataset is:  440.3107262373564\n",
      "The standard deviation of the dataset is: 20.983582302299013\n"
     ]
    }
   ],
   "source": [
    "print(\"The variance of the dataset is: \", stat.variance(data))\n",
    "print(\"The standard deviation of the dataset is:\", np.sqrt(stat.variance(data)))"
   ]
  }
 ],
 "metadata": {
  "kernelspec": {
   "display_name": "Python 3 (ipykernel)",
   "language": "python",
   "name": "python3"
  },
  "language_info": {
   "codemirror_mode": {
    "name": "ipython",
    "version": 3
   },
   "file_extension": ".py",
   "mimetype": "text/x-python",
   "name": "python",
   "nbconvert_exporter": "python",
   "pygments_lexer": "ipython3",
   "version": "3.9.7"
  }
 },
 "nbformat": 4,
 "nbformat_minor": 5
}
